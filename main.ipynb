{
 "cells": [
  {
   "cell_type": "markdown",
   "metadata": {},
   "source": [
    "# <center> <img src=\"figs/LogoUFSCar.jpg\" alt=\"Logo UFScar\" width=\"110\" align=\"left\"/>  <br/> <center>Universidade Federal de São Carlos (UFSCar)<br/><font size=\"4\"> Departamento de Computação, campus São Carlos</center></font>\n",
    "</p>\n",
    "\n",
    "<font size=\"4\"><center><b>Disciplina: Aprendizado de Máquina</b></center></font>\n",
    "  \n",
    "<font size=\"3\"><center>Prof. Dr. Tiago A. Almeida</center></font>\n",
    "\n",
    "## <center>Projeto Final</center>\n",
    "\n",
    "**Nome**: Fernando Messias da Silva - **RA**: 489450 </br>\n",
    "**Nome**: Josie de Assis Francisco Henriques do Nascimento - **RA**: 840214\n"
   ]
  },
  {
   "cell_type": "markdown",
   "metadata": {},
   "source": [
    "---\n",
    "### Análise exploratória\n",
    "\n",
    "Nesta seção, deve ser feita a leitura da base de dados e todas as análises necessárias para interpretar e analisar os dados, tais como:\n",
    "* Significado de cada atributo\n",
    "* Medidas descritivas\n",
    "* Gráficos"
   ]
  },
  {
   "cell_type": "code",
   "metadata": {},
   "source": [
    "#Import Packages\n",
    "import warnings\n",
    "import numpy as np\n",
    "import pandas as pd\n",
    "import os\n",
    "\n",
    "from matplotlib import pyplot as plt\n",
    "import seaborn\n",
    "from nltk import DecisionTreeClassifier\n",
    "from sklearn import tree\n",
    "from sklearn.ensemble import RandomForestClassifier, GradientBoostingClassifier\n",
    "from sklearn.model_selection import train_test_split\n",
    "from sklearn.neighbors import KNeighborsClassifier, KNeighborsRegressor\n",
    "from sklearn.preprocessing import LabelEncoder\n",
    "from sklearn.metrics import roc_auc_score\n",
    "from sklearn.neural_network import MLPClassifier\n",
    "from sklearn.svm import SVC\n",
    "from sklearn.linear_model import LogisticRegression\n",
    "from sklearn.naive_bayes import GaussianNB\n",
    "from sklearn.calibration import CalibratedClassifierCV\n",
    "from imblearn.over_sampling import SMOTE\n",
    "from sklearn.model_selection import GridSearchCV\n",
    "\n",
    "\n",
    "warnings.filterwarnings(\"ignore\")\n",
    "pd.set_option('display.max_columns', None)\n",
    "pd.set_option('display.max_rows', None)\n",
    "warnings.filterwarnings(\"ignore\")\n",
    "pd.options.display.float_format = '{:.2f}'.format"
   ],
   "outputs": [],
   "execution_count": null
  },
  {
   "metadata": {},
   "cell_type": "code",
   "source": [
    "# Load csv file\n",
    "\n",
    "#FILES_DIRECTORY = \"/kaggle/input/ufscar-am-2024-projeto-final\"\n",
    "FILES_DIRECTORY = \"dados\"\n",
    "\n",
    "rhp_data = pd.read_csv(os.path.join(FILES_DIRECTORY, \"RHP_data.csv\"), sep=',', encoding='utf-8')\n",
    "train_data = pd.read_csv(os.path.join(FILES_DIRECTORY, \"train.csv\"), sep=',', index_col=None)\n",
    "test_data = pd.read_csv(os.path.join(FILES_DIRECTORY, 'test.csv'), sep=',', index_col=None)\n",
    "rhp_data_classe = pd.merge(rhp_data, train_data, on='Id')\n",
    "#df_rhp_test = pd.merge(df_rhp, df_test, on='Id')\n"
   ],
   "outputs": [],
   "execution_count": null
  },
  {
   "metadata": {},
   "cell_type": "code",
   "source": "rhp_data_classe",
   "outputs": [],
   "execution_count": null
  },
  {
   "metadata": {},
   "cell_type": "code",
   "source": [
    "# Cria um novo dataframe sem os atributos Idade, IMC, Atendimento, Convenio, Sexo, HDA1 e HDA2. Esses atributos são reduntantes ou não são relevantes para a análise a ser feito\n",
    "\n",
    "columns_to_drop = ['DN', 'Atendimento', 'Convenio', 'HDA 1', 'HDA2']\n",
    "rhp_data_processed = rhp_data_classe.drop(columns=columns_to_drop, errors='ignore')\n",
    "\n"
   ],
   "outputs": [],
   "execution_count": null
  },
  {
   "metadata": {},
   "cell_type": "code",
   "source": [
    "# Check the column structure of the dataset\n",
    "rhp_data_processed.info()"
   ],
   "outputs": [],
   "execution_count": null
  },
  {
   "metadata": {},
   "cell_type": "code",
   "source": [
    "# Contar a distribuição das classes no conjunto de treino\n",
    "class_distribution = rhp_data_processed[\"CLASSE\"].value_counts(dropna=False)\n",
    "\n",
    "# Visualizar a distribuição das classes\n",
    "plt.figure(figsize=(6,4))\n",
    "seaborn.barplot(x=class_distribution.index, y=class_distribution.values, palette=\"coolwarm\")\n",
    "plt.xlabel(\"Classe\")\n",
    "plt.ylabel(\"Quantidade\")\n",
    "plt.title(\"Distribuição das Classes no Conjunto de Treinamento\")\n",
    "plt.show()"
   ],
   "outputs": [],
   "execution_count": null
  },
  {
   "metadata": {},
   "cell_type": "code",
   "source": [
    "# Identifying outliers\n",
    "\n",
    "# Histogram for each attribute:\n",
    "for attribute in rhp_data_processed.columns:\n",
    "    n, bins, patches = plt.hist(rhp_data_processed[attribute], bins=10, color='blue', alpha=0.7, rwidth=0.85)\n",
    "    plt.title(f\"Histograma do Atributo {attribute}\")\n",
    "    plt.show()"
   ],
   "outputs": [],
   "execution_count": null
  },
  {
   "metadata": {},
   "cell_type": "code",
   "source": [
    "# Density chart for each attribute (Help to identify outliers)\n",
    "for attribute in rhp_data_processed.columns:\n",
    "    densityPlot = rhp_data_processed[attribute].plot(kind='density', subplots=True, layout=(1, 1), sharex=False, sharey=False)\n",
    "    plt.title(f\"Gráfico de Densidade do Atributo {attribute}\")\n",
    "    plt.show()"
   ],
   "outputs": [],
   "execution_count": null
  },
  {
   "metadata": {},
   "cell_type": "code",
   "source": [
    "# Check for null values in the dataset\n",
    "missing_values = rhp_data.isnull().sum().sort_values(ascending=False)\n",
    "\n",
    "# Show attributes with higher count of null values\n",
    "missing_values = missing_values[missing_values > 0]\n",
    "missing_values"
   ],
   "outputs": [],
   "execution_count": null
  },
  {
   "metadata": {},
   "cell_type": "code",
   "source": [
    "# Análise Estatística\n",
    "# Select only numeric columns\n",
    "numerical_columns = rhp_data_processed.select_dtypes(include=[\"int64\", \"float64\"]).columns\n",
    "\n",
    "# Generate descriptive statistics\n",
    "stats_summary = rhp_data_processed[numerical_columns].describe()\n",
    "\n",
    "# Display the summary\n",
    "display(stats_summary)"
   ],
   "outputs": [],
   "execution_count": null
  },
  {
   "metadata": {},
   "cell_type": "code",
   "source": [
    "# Distribution plot\n",
    "# Main numeric variables plot\n",
    "fig, axes = plt.subplots(2, 2, figsize=(12, 10))\n",
    "\n",
    "seaborn.histplot(rhp_data_processed[\"Peso\"].dropna(), bins=50, kde=True, ax=axes[0, 0])\n",
    "axes[0, 0].set_title(\"Distribuição do Peso\")\n",
    "\n",
    "seaborn.histplot(rhp_data_processed[\"Altura\"].dropna(), bins=50, kde=True, ax=axes[0, 1])\n",
    "axes[0, 1].set_title(\"Distribuição da Altura\")\n",
    "\n",
    "seaborn.histplot(rhp_data_processed[\"IMC\"].dropna(), bins=50, kde=True, ax=axes[1, 0])\n",
    "axes[1, 0].set_title(\"Distribuição do IMC\")\n",
    "\n",
    "seaborn.histplot(rhp_data_processed[\"PA SISTOLICA\"].dropna(), bins=50, kde=True, ax=axes[1, 1])\n",
    "axes[1, 1].set_title(\"Distribuição da Pressão Sistólica\")\n",
    "\n",
    "plt.tight_layout()\n",
    "plt.show()\n"
   ],
   "outputs": [],
   "execution_count": null
  },
  {
   "metadata": {},
   "cell_type": "code",
   "source": [
    "# Correlation Matrix\n",
    "# Calcular a matriz de correlação entre as variáveis numéricas\n",
    "correlation_matrix = rhp_data_processed[numerical_columns].corr()\n",
    "\n",
    "# Gerar um mapa de calor para visualização das correlações\n",
    "plt.figure(figsize=(10, 8))\n",
    "seaborn.heatmap(correlation_matrix, annot=True, fmt=\".2f\", cmap=\"coolwarm\", linewidths=0.5)\n",
    "plt.title(\"Matriz de Correlação entre Variáveis Numéricas\")\n",
    "plt.show()\n"
   ],
   "outputs": [],
   "execution_count": null
  },
  {
   "metadata": {},
   "cell_type": "markdown",
   "source": [
    "---\n",
    "### Pré-processamento\n",
    "\n",
    "Nesta seção, as funções da etapa de pré-processamento dos dados devem ser implementadas e aplicadas (se necessário)."
   ]
  },
  {
   "metadata": {},
   "cell_type": "code",
   "source": [
    "# Verificar a distribuição das classes no conjunto de treinamento\n",
    "class_distribution = rhp_data_processed['CLASSE'].value_counts(normalize=True)"
   ],
   "outputs": [],
   "execution_count": null
  },
  {
   "metadata": {},
   "cell_type": "code",
   "source": "class_distribution",
   "outputs": [],
   "execution_count": null
  },
  {
   "metadata": {},
   "cell_type": "code",
   "source": "rhp_data_processed = rhp_data_processed.dropna(subset=['CLASSE'])",
   "outputs": [],
   "execution_count": null
  },
  {
   "metadata": {},
   "cell_type": "code",
   "source": [
    "pulsos_distribution = rhp_data_processed['PULSOS'].value_counts(normalize=True)\n",
    "ppa_distribution = rhp_data_processed['PPA'].value_counts(normalize=True)\n",
    "b2_distribution = rhp_data_processed['B2'].value_counts(normalize=True)\n",
    "sopro_distribution = rhp_data_processed['SOPRO'].value_counts(normalize=True)\n",
    "sexo_distribution = rhp_data_processed['SEXO'].value_counts(normalize=True)\n",
    "motivo1_distribution = rhp_data_processed['MOTIVO1'].value_counts(normalize=True)\n",
    "motivo2_distribution = rhp_data_processed['MOTIVO2'].value_counts(normalize=True)"
   ],
   "outputs": [],
   "execution_count": null
  },
  {
   "metadata": {},
   "cell_type": "code",
   "source": "pulsos_distribution,ppa_distribution,b2_distribution,sopro_distribution,sexo_distribution,motivo1_distribution,motivo2_distribution",
   "outputs": [],
   "execution_count": null
  },
  {
   "metadata": {},
   "cell_type": "code",
   "source": [
    "# Replace #VALUE! to NaN\n",
    "rhp_data_processed.replace(\"#VALUE!\", pd.NA, inplace=True)"
   ],
   "outputs": [],
   "execution_count": null
  },
  {
   "metadata": {},
   "cell_type": "code",
   "source": [
    "rhp_data_processed['CLASSE'] = rhp_data_processed['CLASSE'].replace({\n",
    "    'Normal': '0',\n",
    "    'Normais': '0',\n",
    "    'Anormal': '1'\n",
    "}).astype('Int64')"
   ],
   "outputs": [],
   "execution_count": null
  },
  {
   "metadata": {},
   "cell_type": "code",
   "source": [
    "# Selecionar colunas categóricas para conversão\n",
    "categorical_cols = [\"SEXO\", \"PULSOS\", \"PPA\", \"B2\", \"SOPRO\", \"MOTIVO1\", \"MOTIVO2\"]\n",
    "\n",
    "# Aplicar One-Hot Encoding\n",
    "rhp_data_processed = pd.get_dummies(rhp_data_processed, columns=categorical_cols, drop_first=True)\n",
    "\n",
    "# Exibir as primeiras linhas após a codificação\n",
    "rhp_data_processed.head()\n"
   ],
   "outputs": [],
   "execution_count": null
  },
  {
   "metadata": {},
   "cell_type": "code",
   "source": [
    "new_columns_to_drop = ['MOTIVO2_6 - Cianose e dispnéia', 'PULSOS_Amplos', 'PULSOS_NORMAIS', 'SOPRO_Sistolico e diastólico']\n",
    "rhp_data_processed = rhp_data_processed.drop(columns=new_columns_to_drop, errors='ignore')"
   ],
   "outputs": [],
   "execution_count": null
  },
  {
   "metadata": {},
   "cell_type": "code",
   "source": "rhp_data_processed.head()",
   "outputs": [],
   "execution_count": null
  },
  {
   "metadata": {},
   "cell_type": "code",
   "source": [
    "rhp_data_processed_normalized = rhp_data_processed\n",
    "rhp_data_processed_normalized['Peso'] = pd.to_numeric(rhp_data_processed_normalized['Peso'], errors='coerce')\n",
    "rhp_data_processed_normalized['Altura'] = pd.to_numeric(rhp_data_processed_normalized['Altura'], errors='coerce')\n",
    "rhp_data_processed_normalized['IMC'] = pd.to_numeric(rhp_data_processed_normalized['IMC'], errors='coerce')\n",
    "rhp_data_processed_normalized['IDADE'] = pd.to_numeric(rhp_data_processed_normalized['IDADE'], errors='coerce')\n",
    "#rhp_data_processed_normalized['PULSOS'] = pd.to_numeric(rhp_data_processed_normalized['PULSOS'], errors='coerce')\n",
    "rhp_data_processed_normalized['PA SISTOLICA'] = pd.to_numeric(rhp_data_processed_normalized['PA SISTOLICA'], errors='coerce')\n",
    "rhp_data_processed_normalized['PA DIASTOLICA'] = pd.to_numeric(rhp_data_processed_normalized['PA DIASTOLICA'], errors='coerce')\n",
    "#rhp_data_processed_normalized['PPA'] = pd.to_numeric(rhp_data_processed_normalized['PPA'], errors='coerce')\n",
    "#rhp_data_processed_normalized['B2'] = pd.to_numeric(rhp_data_processed_normalized['B2'], errors='coerce')\n",
    "rhp_data_processed_normalized['FC'] = pd.to_numeric(rhp_data_processed_normalized['FC'], errors='coerce')\n",
    "# rhp_data_processed_normalized['SEXO'] = pd.to_numeric(rhp_data_processed_normalized['SEXO'], errors='coerce')\n",
    "# rhp_data_processed_normalized['MOTIVO1'] = pd.to_numeric(rhp_data_processed_normalized['MOTIVO1'], errors='coerce')\n",
    "# rhp_data_processed_normalized['MOTIVO2'] = pd.to_numeric(rhp_data_processed_normalized['MOTIVO2'], errors='coerce')\n",
    "# rhp_data_processed_normalized['SOPRO'] = pd.to_numeric(rhp_data_processed_normalized['SOPRO'], errors='coerce')\n",
    "rhp_data_processed_normalized['SEXO_Feminino'] = pd.to_numeric(rhp_data_processed_normalized['SEXO_Feminino'], errors='coerce')\n",
    "rhp_data_processed_normalized['SEXO_Indeterminado'] = pd.to_numeric(rhp_data_processed_normalized['SEXO_Indeterminado'], errors='coerce')\n",
    "rhp_data_processed_normalized['SEXO_M'] = pd.to_numeric(rhp_data_processed_normalized['SEXO_M'], errors='coerce')\n",
    "rhp_data_processed_normalized['SEXO_Masculino'] = pd.to_numeric(rhp_data_processed_normalized['SEXO_Masculino'], errors='coerce')\n",
    "rhp_data_processed_normalized['SEXO_masculino'] = pd.to_numeric(rhp_data_processed_normalized['SEXO_masculino'], errors='coerce')\n",
    "#rhp_data_processed_normalized['PULSOS_Amplos'] = pd.to_numeric(rhp_data_processed_normalized['PULSOS_Amplos'], errors='coerce')\n",
    "rhp_data_processed_normalized['PULSOS_Diminuídos '] = pd.to_numeric(rhp_data_processed_normalized['PULSOS_Diminuídos '], errors='coerce')\n",
    "rhp_data_processed_normalized['PULSOS_Femorais diminuidos'] = pd.to_numeric(rhp_data_processed_normalized['PULSOS_Femorais diminuidos'], errors='coerce')\n",
    "#rhp_data_processed_normalized['PULSOS_NORMAIS'] = pd.to_numeric(rhp_data_processed_normalized['PULSOS_NORMAIS'], errors='coerce')\n",
    "rhp_data_processed_normalized['PULSOS_Normais'] = pd.to_numeric(rhp_data_processed_normalized['PULSOS_Normais'], errors='coerce')\n",
    "rhp_data_processed_normalized['PULSOS_Outro'] = pd.to_numeric(rhp_data_processed_normalized['PULSOS_Outro'], errors='coerce')\n",
    "rhp_data_processed_normalized['PPA_HAS-1 PAS'] = pd.to_numeric(rhp_data_processed_normalized['PPA_HAS-1 PAS'], errors='coerce')\n",
    "rhp_data_processed_normalized['PPA_HAS-2 PAD'] = pd.to_numeric(rhp_data_processed_normalized['PPA_HAS-2 PAD'], errors='coerce')\n",
    "rhp_data_processed_normalized['PPA_HAS-2 PAS'] = pd.to_numeric(rhp_data_processed_normalized['PPA_HAS-2 PAS'], errors='coerce')\n",
    "rhp_data_processed_normalized['PPA_Normal'] = pd.to_numeric(rhp_data_processed_normalized['PPA_Normal'], errors='coerce')\n",
    "rhp_data_processed_normalized['PPA_Não Calculado'] = pd.to_numeric(rhp_data_processed_normalized['PPA_Não Calculado'], errors='coerce')\n",
    "rhp_data_processed_normalized['PPA_Pre-Hipertensão PAD'] = pd.to_numeric(rhp_data_processed_normalized['PPA_Pre-Hipertensão PAD'], errors='coerce')\n",
    "rhp_data_processed_normalized['PPA_Pre-Hipertensão PAS'] = pd.to_numeric(rhp_data_processed_normalized['PPA_Pre-Hipertensão PAS'], errors='coerce')\n",
    "rhp_data_processed_normalized['B2_Hiperfonética'] = pd.to_numeric(rhp_data_processed_normalized['B2_Hiperfonética'], errors='coerce')\n",
    "rhp_data_processed_normalized['B2_Normal'] = pd.to_numeric(rhp_data_processed_normalized['B2_Normal'], errors='coerce')\n",
    "rhp_data_processed_normalized['B2_Outro'] = pd.to_numeric(rhp_data_processed_normalized['B2_Outro'], errors='coerce')\n",
    "rhp_data_processed_normalized['B2_Única'] = pd.to_numeric(rhp_data_processed_normalized['B2_Única'], errors='coerce')\n",
    "#rhp_data_processed_normalized['SOPRO_Sistolico e diastólico'] = pd.to_numeric(rhp_data_processed_normalized['SOPRO_Sistolico e diastólico'], errors='coerce')\n",
    "rhp_data_processed_normalized['SOPRO_Sistólico'] = pd.to_numeric(rhp_data_processed_normalized['SOPRO_Sistólico'], errors='coerce')\n",
    "rhp_data_processed_normalized['SOPRO_ausente'] = pd.to_numeric(rhp_data_processed_normalized['SOPRO_ausente'], errors='coerce')\n",
    "rhp_data_processed_normalized['SOPRO_contínuo'] = pd.to_numeric(rhp_data_processed_normalized['SOPRO_contínuo'], errors='coerce')\n",
    "rhp_data_processed_normalized['SOPRO_diastólico'] = pd.to_numeric(rhp_data_processed_normalized['SOPRO_diastólico'], errors='coerce')\n",
    "rhp_data_processed_normalized['SOPRO_sistólico'] = pd.to_numeric(rhp_data_processed_normalized['SOPRO_sistólico'], errors='coerce')\n",
    "rhp_data_processed_normalized['MOTIVO1_2 - Check-up'] = pd.to_numeric(rhp_data_processed_normalized['MOTIVO1_2 - Check-up'], errors='coerce')\n",
    "rhp_data_processed_normalized['MOTIVO1_5 - Parecer cardiológico'] = pd.to_numeric(rhp_data_processed_normalized['MOTIVO1_5 - Parecer cardiológico'], errors='coerce')\n",
    "rhp_data_processed_normalized['MOTIVO1_6 - Suspeita de cardiopatia'] = pd.to_numeric(rhp_data_processed_normalized['MOTIVO1_6 - Suspeita de cardiopatia'], errors='coerce')\n",
    "rhp_data_processed_normalized['MOTIVO1_7 - Outro'] = pd.to_numeric(rhp_data_processed_normalized['MOTIVO1_7 - Outro'], errors='coerce')\n",
    "rhp_data_processed_normalized['MOTIVO2_1 - Cardiopatia congenica'] = pd.to_numeric(rhp_data_processed_normalized['MOTIVO2_1 - Cardiopatia congenica'], errors='coerce')\n",
    "rhp_data_processed_normalized['MOTIVO2_5 - Atividade física'] = pd.to_numeric(rhp_data_processed_normalized['MOTIVO2_5 - Atividade física'], errors='coerce')\n",
    "rhp_data_processed_normalized['MOTIVO2_5 - Cirurgia'] = pd.to_numeric(rhp_data_processed_normalized['MOTIVO2_5 - Cirurgia'], errors='coerce')\n",
    "rhp_data_processed_normalized['MOTIVO2_5 - Uso de cisaprida'] = pd.to_numeric(rhp_data_processed_normalized['MOTIVO2_5 - Uso de cisaprida'], errors='coerce')\n",
    "rhp_data_processed_normalized['MOTIVO2_6 - Alterações de pulso/perfusão'] = pd.to_numeric(rhp_data_processed_normalized['MOTIVO2_6 - Alterações de pulso/perfusão'], errors='coerce')\n",
    "rhp_data_processed_normalized['MOTIVO2_6 - Cansaço'] = pd.to_numeric(rhp_data_processed_normalized['MOTIVO2_6 - Cansaço'], errors='coerce')\n",
    "rhp_data_processed_normalized['MOTIVO2_6 - Cardiopatia na familia'] = pd.to_numeric(rhp_data_processed_normalized['MOTIVO2_6 - Cardiopatia na familia'], errors='coerce')\n",
    "rhp_data_processed_normalized['MOTIVO2_6 - Cianose'] = pd.to_numeric(rhp_data_processed_normalized['MOTIVO2_6 - Cianose'], errors='coerce')\n",
    "#rhp_data_processed_normalized['MOTIVO2_6 - Cianose e dispnéia'] = pd.to_numeric(rhp_data_processed_normalized['MOTIVO2_6 - Cianose e dispnéia'], errors='coerce')\n",
    "rhp_data_processed_normalized['MOTIVO2_6 - Dispnéia'] = pd.to_numeric(rhp_data_processed_normalized['MOTIVO2_6 - Dispnéia'], errors='coerce')\n",
    "rhp_data_processed_normalized['MOTIVO2_6 - Dor precordial'] = pd.to_numeric(rhp_data_processed_normalized['MOTIVO2_6 - Dor precordial'], errors='coerce')\n",
    "rhp_data_processed_normalized['MOTIVO2_6 - HAS/dislipidemia/obesidade'] = pd.to_numeric(rhp_data_processed_normalized['MOTIVO2_6 - HAS/dislipidemia/obesidade'], errors='coerce')\n",
    "rhp_data_processed_normalized['MOTIVO2_6 - Palpitação/taquicardia/arritmia'] = pd.to_numeric(rhp_data_processed_normalized['MOTIVO2_6 - Palpitação/taquicardia/arritmia'], errors='coerce')\n",
    "rhp_data_processed_normalized['MOTIVO2_6 - Sopro'] = pd.to_numeric(rhp_data_processed_normalized['MOTIVO2_6 - Sopro'], errors='coerce')\n",
    "rhp_data_processed_normalized['MOTIVO2_Outro'] = pd.to_numeric(rhp_data_processed_normalized['MOTIVO2_Outro'], errors='coerce')\n",
    "rhp_data_processed_normalized['CLASSE'] = pd.to_numeric(rhp_data_processed_normalized['CLASSE'], errors='coerce')\n"
   ],
   "outputs": [],
   "execution_count": null
  },
  {
   "metadata": {},
   "cell_type": "code",
   "source": "",
   "outputs": [],
   "execution_count": null
  },
  {
   "metadata": {},
   "cell_type": "code",
   "source": [
    "# Criar Pressão de Pulso Arterial (PPA numérica)\n",
    "rhp_data_processed_normalized[\"PPA_num\"] = rhp_data_processed_normalized[\"PA SISTOLICA\"] - rhp_data_processed_normalized[\"PA DIASTOLICA\"]"
   ],
   "outputs": [],
   "execution_count": null
  },
  {
   "metadata": {},
   "cell_type": "code",
   "source": "",
   "outputs": [],
   "execution_count": null
  },
  {
   "metadata": {},
   "cell_type": "code",
   "source": [
    "rhp_data_processed_normalized['Peso'].fillna(rhp_data_processed_normalized['Peso'].median(), inplace=True)\n",
    "rhp_data_processed_normalized['Altura'].fillna(rhp_data_processed_normalized['Altura'].median(), inplace=True)\n",
    "rhp_data_processed_normalized['IMC'].fillna(rhp_data_processed_normalized['IMC'].median(), inplace=True)\n",
    "rhp_data_processed_normalized['IDADE'].fillna(rhp_data_processed_normalized['IDADE'].median(), inplace=True)\n",
    "#rhp_data_processed_normalized['PULSOS'].fillna(rhp_data_processed_normalized['PULSOS'].mode()[0], inplace=True)\n",
    "rhp_data_processed_normalized['PA SISTOLICA'].fillna(rhp_data_processed_normalized['PA SISTOLICA'].median(), inplace=True)\n",
    "rhp_data_processed_normalized['PA DIASTOLICA'].fillna(rhp_data_processed_normalized['PA DIASTOLICA'].median(), inplace=True)\n",
    "#rhp_data_processed_normalized['PPA'].fillna(rhp_data_processed_normalized['PPA'].mode()[0], inplace=True)\n",
    "#rhp_data_processed_normalized['B2'].fillna(rhp_data_processed_normalized['B2'].mode()[0], inplace=True)\n",
    "rhp_data_processed_normalized['FC'].fillna(rhp_data_processed_normalized['FC'].median(), inplace=True)\n",
    "# rhp_data_processed_normalized['SEXO'].fillna(rhp_data_processed_normalized['SEXO'].mode()[0], inplace=True)\n",
    "# rhp_data_processed_normalized['MOTIVO1'].fillna(rhp_data_processed_normalized['MOTIVO1'].mode()[0], inplace=True)\n",
    "# rhp_data_processed_normalized['MOTIVO2'].fillna(rhp_data_processed_normalized['MOTIVO2'].mode()[0], inplace=True)\n",
    "# rhp_data_processed_normalized['SOPRO'].fillna(rhp_data_processed_normalized['SOPRO'].mode()[0], inplace=True)\n",
    "\n",
    "rhp_data_processed_normalized['SEXO_Feminino'].fillna(rhp_data_processed_normalized['SEXO_Feminino'].mode()[0], inplace=True)\n",
    "rhp_data_processed_normalized['SEXO_Indeterminado'].fillna(rhp_data_processed_normalized['SEXO_Indeterminado'].mode()[0], inplace=True)\n",
    "rhp_data_processed_normalized['SEXO_M'].fillna(rhp_data_processed_normalized['SEXO_M'].mode()[0], inplace=True)\n",
    "rhp_data_processed_normalized['SEXO_Masculino'].fillna(rhp_data_processed_normalized['SEXO_Masculino'].mode()[0], inplace=True)\n",
    "rhp_data_processed_normalized['SEXO_masculino'].fillna(rhp_data_processed_normalized['SEXO_masculino'].mode()[0], inplace=True)\n",
    "#rhp_data_processed_normalized['PULSOS_Amplos'].fillna(rhp_data_processed_normalized['PULSOS_Amplos'].mode()[0], inplace=True)\n",
    "rhp_data_processed_normalized['PULSOS_Diminuídos '].fillna(rhp_data_processed_normalized['PULSOS_Diminuídos '].mode()[0], inplace=True)\n",
    "rhp_data_processed_normalized['PULSOS_Femorais diminuidos'].fillna(rhp_data_processed_normalized['PULSOS_Femorais diminuidos'].mode()[0], inplace=True)\n",
    "#rhp_data_processed_normalized['PULSOS_NORMAIS'].fillna(rhp_data_processed_normalized['PULSOS_NORMAIS'].mode()[0], inplace=True)\n",
    "rhp_data_processed_normalized['PULSOS_Normais'].fillna(rhp_data_processed_normalized['PULSOS_Normais'].mode()[0], inplace=True)\n",
    "rhp_data_processed_normalized['PULSOS_Outro'].fillna(rhp_data_processed_normalized['PULSOS_Outro'].mode()[0], inplace=True)\n",
    "rhp_data_processed_normalized['PPA_HAS-1 PAS'].fillna(rhp_data_processed_normalized['PPA_HAS-1 PAS'].mode()[0], inplace=True)\n",
    "rhp_data_processed_normalized['PPA_HAS-2 PAD'].fillna(rhp_data_processed_normalized['PPA_HAS-2 PAD'].mode()[0], inplace=True)\n",
    "rhp_data_processed_normalized['PPA_HAS-2 PAS'].fillna(rhp_data_processed_normalized['PPA_HAS-2 PAS'].mode()[0], inplace=True)\n",
    "rhp_data_processed_normalized['PPA_Normal'].fillna(rhp_data_processed_normalized['PPA_Normal'].mode()[0], inplace=True)\n",
    "rhp_data_processed_normalized['PPA_Não Calculado'].fillna(rhp_data_processed_normalized['PPA_Não Calculado'].mode()[0], inplace=True)\n",
    "rhp_data_processed_normalized['PPA_Pre-Hipertensão PAD'].fillna(rhp_data_processed_normalized['PPA_Pre-Hipertensão PAD'].mode()[0], inplace=True)\n",
    "rhp_data_processed_normalized['PPA_Pre-Hipertensão PAS'].fillna(rhp_data_processed_normalized['PPA_Pre-Hipertensão PAS'].mode()[0], inplace=True)\n",
    "rhp_data_processed_normalized['B2_Hiperfonética'].fillna(rhp_data_processed_normalized['B2_Hiperfonética'].mode()[0], inplace=True)\n",
    "rhp_data_processed_normalized['B2_Normal'].fillna(rhp_data_processed_normalized['B2_Normal'].mode()[0], inplace=True)\n",
    "rhp_data_processed_normalized['B2_Outro'].fillna(rhp_data_processed_normalized['B2_Outro'].mode()[0], inplace=True)\n",
    "rhp_data_processed_normalized['B2_Única'].fillna(rhp_data_processed_normalized['B2_Única'].mode()[0], inplace=True)\n",
    "#rhp_data_processed_normalized['SOPRO_Sistolico e diastólico'].fillna(rhp_data_processed_normalized['SOPRO_Sistolico e diastólico'].mode()[0], inplace=True)\n",
    "rhp_data_processed_normalized['SOPRO_Sistólico'].fillna(rhp_data_processed_normalized['SOPRO_Sistólico'].mode()[0], inplace=True)\n",
    "rhp_data_processed_normalized['SOPRO_ausente'].fillna(rhp_data_processed_normalized['SOPRO_ausente'].mode()[0], inplace=True)\n",
    "rhp_data_processed_normalized['SOPRO_contínuo'].fillna(rhp_data_processed_normalized['SOPRO_contínuo'].mode()[0], inplace=True)\n",
    "rhp_data_processed_normalized['SOPRO_diastólico'].fillna(rhp_data_processed_normalized['SOPRO_diastólico'].mode()[0], inplace=True)\n",
    "rhp_data_processed_normalized['SOPRO_sistólico'].fillna(rhp_data_processed_normalized['SOPRO_sistólico'].mode()[0], inplace=True)\n",
    "rhp_data_processed_normalized['MOTIVO1_2 - Check-up'].fillna(rhp_data_processed_normalized['MOTIVO1_2 - Check-up'].mode()[0], inplace=True)\n",
    "rhp_data_processed_normalized['MOTIVO1_5 - Parecer cardiológico'].fillna(rhp_data_processed_normalized['MOTIVO1_5 - Parecer cardiológico'].mode()[0], inplace=True)\n",
    "rhp_data_processed_normalized['MOTIVO1_6 - Suspeita de cardiopatia'].fillna(rhp_data_processed_normalized['MOTIVO1_6 - Suspeita de cardiopatia'].mode()[0], inplace=True)\n",
    "rhp_data_processed_normalized['MOTIVO1_7 - Outro'].fillna(rhp_data_processed_normalized['MOTIVO1_7 - Outro'].mode()[0], inplace=True)\n",
    "rhp_data_processed_normalized['MOTIVO2_1 - Cardiopatia congenica'].fillna(rhp_data_processed_normalized['MOTIVO2_1 - Cardiopatia congenica'].mode()[0], inplace=True)\n",
    "rhp_data_processed_normalized['MOTIVO2_5 - Atividade física'].fillna(rhp_data_processed_normalized['MOTIVO2_5 - Atividade física'].mode()[0], inplace=True)\n",
    "rhp_data_processed_normalized['MOTIVO2_5 - Cirurgia'].fillna(rhp_data_processed_normalized['MOTIVO2_5 - Cirurgia'].mode()[0], inplace=True)\n",
    "rhp_data_processed_normalized['MOTIVO2_5 - Uso de cisaprida'].fillna(rhp_data_processed_normalized['MOTIVO2_5 - Uso de cisaprida'].mode()[0], inplace=True)\n",
    "rhp_data_processed_normalized['MOTIVO2_6 - Alterações de pulso/perfusão'].fillna(rhp_data_processed_normalized['MOTIVO2_6 - Alterações de pulso/perfusão'].mode()[0], inplace=True)\n",
    "rhp_data_processed_normalized['MOTIVO2_6 - Cansaço'].fillna(rhp_data_processed_normalized['MOTIVO2_6 - Cansaço'].mode()[0], inplace=True)\n",
    "rhp_data_processed_normalized['MOTIVO2_6 - Cardiopatia na familia'].fillna(rhp_data_processed_normalized['MOTIVO2_6 - Cardiopatia na familia'].mode()[0], inplace=True)\n",
    "rhp_data_processed_normalized['MOTIVO2_6 - Cianose'].fillna(rhp_data_processed_normalized['MOTIVO2_6 - Cianose'].mode()[0], inplace=True)\n",
    "#rhp_data_processed_normalized['MOTIVO2_6 - Cianose e dispnéia'].fillna(rhp_data_processed_normalized['MOTIVO2_6 - Cianose e dispnéia'].mode()[0], inplace=True)\n",
    "rhp_data_processed_normalized['MOTIVO2_6 - Dispnéia'].fillna(rhp_data_processed_normalized['MOTIVO2_6 - Dispnéia'].mode()[0], inplace=True)\n",
    "rhp_data_processed_normalized['MOTIVO2_6 - Dor precordial'].fillna(rhp_data_processed_normalized['MOTIVO2_6 - Dor precordial'].mode()[0], inplace=True)\n",
    "rhp_data_processed_normalized['MOTIVO2_6 - HAS/dislipidemia/obesidade'].fillna(rhp_data_processed_normalized['MOTIVO2_6 - HAS/dislipidemia/obesidade'].mode()[0], inplace=True)\n",
    "rhp_data_processed_normalized['MOTIVO2_6 - Palpitação/taquicardia/arritmia'].fillna(rhp_data_processed_normalized['MOTIVO2_6 - Palpitação/taquicardia/arritmia'].mode()[0], inplace=True)\n",
    "rhp_data_processed_normalized['MOTIVO2_6 - Sopro'].fillna(rhp_data_processed_normalized['MOTIVO2_6 - Sopro'].mode()[0], inplace=True)\n",
    "rhp_data_processed_normalized['MOTIVO2_Outro'].fillna(rhp_data_processed_normalized['MOTIVO2_Outro'].mode()[0], inplace=True)\n",
    "#rhp_data_processed_normalized['Peso_Altura_Ratio'].fillna(rhp_data_processed_normalized['Peso_Altura_Ratio'].median(), inplace=True)\n",
    "rhp_data_processed_normalized['PPA_num'].fillna(rhp_data_processed_normalized['PPA_num'].mode()[0], inplace=True)\n",
    "\n",
    "\n",
    "rhp_data_processed_normalized['CLASSE'].fillna(rhp_data_processed_normalized['CLASSE'].median(), inplace=True)"
   ],
   "outputs": [],
   "execution_count": null
  },
  {
   "metadata": {},
   "cell_type": "code",
   "source": [
    "# Aplicar a padronização (Z-score) aos atributos numéricos\n",
    "numerical_columns = [\"IDADE\", \"Peso\", \"Altura\", \"IMC\", \"PA SISTOLICA\", \"PA DIASTOLICA\", \"FC\", \"PPA_num\"]"
   ],
   "outputs": [],
   "execution_count": null
  },
  {
   "metadata": {},
   "cell_type": "code",
   "source": [
    "# Calcular a média e desvio padrão de cada atributo\n",
    "means = rhp_data_processed_normalized[numerical_columns].mean()\n",
    "stds = rhp_data_processed_normalized[numerical_columns].std()"
   ],
   "outputs": [],
   "execution_count": null
  },
  {
   "metadata": {},
   "cell_type": "code",
   "source": [
    "# Aplicar a padronização\n",
    "rhp_data_processed_normalized[numerical_columns] = (rhp_data_processed_normalized[numerical_columns] - means) / stds\n"
   ],
   "outputs": [],
   "execution_count": null
  },
  {
   "metadata": {},
   "cell_type": "code",
   "source": "rhp_data_processed_normalized.head()",
   "outputs": [],
   "execution_count": null
  },
  {
   "metadata": {},
   "cell_type": "code",
   "source": [
    "# Salvar dados pre-processados\n",
    "rhp_data_processed_normalized.to_csv('dados/rhp_data_processed_normalized.csv', index=False)"
   ],
   "outputs": [],
   "execution_count": null
  },
  {
   "metadata": {},
   "cell_type": "markdown",
   "source": [
    "---\n",
    "### Experimento\n",
    "\n",
    "Nesta seção, o experimento deve ser conduzido, utilizando os protocolos experimentais padrões e testando diferentes modelos."
   ]
  },
  {
   "metadata": {},
   "cell_type": "code",
   "source": [
    "# Cria o arquivo de treinamento\n",
    "train_dataset = train_data.merge(rhp_data_processed_normalized, on=\"Id\", how=\"left\")"
   ],
   "outputs": [],
   "execution_count": null
  },
  {
   "metadata": {},
   "cell_type": "code",
   "source": "train_dataset = train_dataset.drop(columns=[\"CLASSE_x\"]).rename(columns={\"CLASSE_y\": \"CLASSE\"})",
   "outputs": [],
   "execution_count": null
  },
  {
   "metadata": {},
   "cell_type": "code",
   "source": [
    "# Criar nova feature: Relação Peso/Altura\n",
    "#train_dataset[\"Peso_Altura_Ratio\"] = train_dataset[\"Peso\"] / train_dataset[\"Altura\"]\n",
    "\n",
    "# Criar Pressão de Pulso Arterial (PPA numérica)\n",
    "train_dataset[\"PPA_num\"] = train_dataset[\"PA SISTOLICA\"] - train_dataset[\"PA DIASTOLICA\"]"
   ],
   "outputs": [],
   "execution_count": null
  },
  {
   "metadata": {},
   "cell_type": "code",
   "source": "train_dataset",
   "outputs": [],
   "execution_count": null
  },
  {
   "metadata": {},
   "cell_type": "code",
   "source": "",
   "outputs": [],
   "execution_count": null
  },
  {
   "metadata": {},
   "cell_type": "code",
   "source": "train_dataset = train_dataset.drop(columns=new_columns_to_drop, errors='ignore')",
   "outputs": [],
   "execution_count": null
  },
  {
   "metadata": {},
   "cell_type": "code",
   "source": "",
   "outputs": [],
   "execution_count": null
  },
  {
   "metadata": {},
   "cell_type": "code",
   "source": [
    "# Remove NaN from train dataset\n",
    "train_dataset['Peso'].fillna(train_dataset['Peso'].median(), inplace=True)\n",
    "train_dataset['Altura'].fillna(train_dataset['Altura'].median(), inplace=True)\n",
    "train_dataset['IMC'].fillna(train_dataset['IMC'].median(), inplace=True)\n",
    "train_dataset['IDADE'].fillna(train_dataset['IDADE'].median(), inplace=True)\n",
    "#train_dataset['PULSOS'].fillna(train_dataset['PULSOS'].mode()[0], inplace=True)\n",
    "train_dataset['PA SISTOLICA'].fillna(train_dataset['PA SISTOLICA'].median(), inplace=True)\n",
    "train_dataset['PA DIASTOLICA'].fillna(train_dataset['PA DIASTOLICA'].median(), inplace=True)\n",
    "#train_dataset['PPA'].fillna(train_dataset['PPA'].mode()[0], inplace=True)\n",
    "#train_dataset['B2'].fillna(train_dataset['B2'].mode()[0], inplace=True)\n",
    "train_dataset['FC'].fillna(train_dataset['FC'].median(), inplace=True)\n",
    "# train_dataset['SEXO'].fillna(train_dataset['SEXO'].mode()[0], inplace=True)\n",
    "# train_dataset['MOTIVO1'].fillna(train_dataset['MOTIVO1'].mode()[0], inplace=True)\n",
    "# train_dataset['MOTIVO2'].fillna(train_dataset['MOTIVO2'].median(), inplace=True)\n",
    "# train_dataset['SOPRO'].fillna(train_dataset['SOPRO'].mode()[0], inplace=True)\n",
    "\n",
    "\n",
    "train_dataset['SEXO_Feminino'].fillna(train_dataset['SEXO_Feminino'].mode()[0], inplace=True)\n",
    "train_dataset['SEXO_Indeterminado'].fillna(train_dataset['SEXO_Indeterminado'].mode()[0], inplace=True)\n",
    "train_dataset['SEXO_M'].fillna(train_dataset['SEXO_M'].mode()[0], inplace=True)\n",
    "train_dataset['SEXO_Masculino'].fillna(train_dataset['SEXO_Masculino'].mode()[0], inplace=True)\n",
    "train_dataset['SEXO_masculino'].fillna(train_dataset['SEXO_masculino'].mode()[0], inplace=True)\n",
    "#train_dataset['PULSOS_Amplos'].fillna(train_dataset['PULSOS_Amplos'].mode()[0], inplace=True)\n",
    "train_dataset['PULSOS_Diminuídos '].fillna(train_dataset['PULSOS_Diminuídos '].mode()[0], inplace=True)\n",
    "train_dataset['PULSOS_Femorais diminuidos'].fillna(train_dataset['PULSOS_Femorais diminuidos'].mode()[0], inplace=True)\n",
    "#train_dataset['PULSOS_NORMAIS'].fillna(train_dataset['PULSOS_NORMAIS'].mode()[0], inplace=True)\n",
    "train_dataset['PULSOS_Normais'].fillna(train_dataset['PULSOS_Normais'].mode()[0], inplace=True)\n",
    "train_dataset['PULSOS_Outro'].fillna(train_dataset['PULSOS_Outro'].mode()[0], inplace=True)\n",
    "train_dataset['PPA_HAS-1 PAS'].fillna(train_dataset['PPA_HAS-1 PAS'].mode()[0], inplace=True)\n",
    "train_dataset['PPA_HAS-2 PAD'].fillna(train_dataset['PPA_HAS-2 PAD'].mode()[0], inplace=True)\n",
    "train_dataset['PPA_HAS-2 PAS'].fillna(train_dataset['PPA_HAS-2 PAS'].mode()[0], inplace=True)\n",
    "train_dataset['PPA_Normal'].fillna(train_dataset['PPA_Normal'].mode()[0], inplace=True)\n",
    "train_dataset['PPA_Não Calculado'].fillna(train_dataset['PPA_Não Calculado'].mode()[0], inplace=True)\n",
    "train_dataset['PPA_Pre-Hipertensão PAD'].fillna(train_dataset['PPA_Pre-Hipertensão PAD'].mode()[0], inplace=True)\n",
    "train_dataset['PPA_Pre-Hipertensão PAS'].fillna(train_dataset['PPA_Pre-Hipertensão PAS'].mode()[0], inplace=True)\n",
    "train_dataset['B2_Hiperfonética'].fillna(train_dataset['B2_Hiperfonética'].mode()[0], inplace=True)\n",
    "train_dataset['B2_Normal'].fillna(train_dataset['B2_Normal'].mode()[0], inplace=True)\n",
    "train_dataset['B2_Outro'].fillna(train_dataset['B2_Outro'].mode()[0], inplace=True)\n",
    "train_dataset['B2_Única'].fillna(train_dataset['B2_Única'].mode()[0], inplace=True)\n",
    "#train_dataset['SOPRO_Sistolico e diastólico'].fillna(train_dataset['SOPRO_Sistolico e diastólico'].mode()[0], inplace=True)\n",
    "train_dataset['SOPRO_Sistólico'].fillna(train_dataset['SOPRO_Sistólico'].mode()[0], inplace=True)\n",
    "train_dataset['SOPRO_ausente'].fillna(train_dataset['SOPRO_ausente'].mode()[0], inplace=True)\n",
    "train_dataset['SOPRO_contínuo'].fillna(train_dataset['SOPRO_contínuo'].mode()[0], inplace=True)\n",
    "train_dataset['SOPRO_diastólico'].fillna(train_dataset['SOPRO_diastólico'].mode()[0], inplace=True)\n",
    "train_dataset['SOPRO_sistólico'].fillna(train_dataset['SOPRO_sistólico'].mode()[0], inplace=True)\n",
    "train_dataset['MOTIVO1_2 - Check-up'].fillna(train_dataset['MOTIVO1_2 - Check-up'].mode()[0], inplace=True)\n",
    "train_dataset['MOTIVO1_5 - Parecer cardiológico'].fillna(train_dataset['MOTIVO1_5 - Parecer cardiológico'].mode()[0], inplace=True)\n",
    "train_dataset['MOTIVO1_6 - Suspeita de cardiopatia'].fillna(train_dataset['MOTIVO1_6 - Suspeita de cardiopatia'].mode()[0], inplace=True)\n",
    "train_dataset['MOTIVO1_7 - Outro'].fillna(train_dataset['MOTIVO1_7 - Outro'].mode()[0], inplace=True)\n",
    "train_dataset['MOTIVO2_1 - Cardiopatia congenica'].fillna(train_dataset['MOTIVO2_1 - Cardiopatia congenica'].mode()[0], inplace=True)\n",
    "train_dataset['MOTIVO2_5 - Atividade física'].fillna(train_dataset['MOTIVO2_5 - Atividade física'].mode()[0], inplace=True)\n",
    "train_dataset['MOTIVO2_5 - Cirurgia'].fillna(train_dataset['MOTIVO2_5 - Cirurgia'].mode()[0], inplace=True)\n",
    "train_dataset['MOTIVO2_5 - Uso de cisaprida'].fillna(train_dataset['MOTIVO2_5 - Uso de cisaprida'].mode()[0], inplace=True)\n",
    "train_dataset['MOTIVO2_6 - Alterações de pulso/perfusão'].fillna(train_dataset['MOTIVO2_6 - Alterações de pulso/perfusão'].mode()[0], inplace=True)\n",
    "train_dataset['MOTIVO2_6 - Cansaço'].fillna(train_dataset['MOTIVO2_6 - Cansaço'].mode()[0], inplace=True)\n",
    "train_dataset['MOTIVO2_6 - Cardiopatia na familia'].fillna(train_dataset['MOTIVO2_6 - Cardiopatia na familia'].mode()[0], inplace=True)\n",
    "train_dataset['MOTIVO2_6 - Cianose'].fillna(train_dataset['MOTIVO2_6 - Cianose'].mode()[0], inplace=True)\n",
    "#train_dataset['MOTIVO2_6 - Cianose e dispnéia'].fillna(train_dataset['MOTIVO2_6 - Cianose e dispnéia'].mode()[0], inplace=True)\n",
    "train_dataset['MOTIVO2_6 - Dispnéia'].fillna(train_dataset['MOTIVO2_6 - Dispnéia'].mode()[0], inplace=True)\n",
    "train_dataset['MOTIVO2_6 - Dor precordial'].fillna(train_dataset['MOTIVO2_6 - Dor precordial'].mode()[0], inplace=True)\n",
    "train_dataset['MOTIVO2_6 - HAS/dislipidemia/obesidade'].fillna(train_dataset['MOTIVO2_6 - HAS/dislipidemia/obesidade'].mode()[0], inplace=True)\n",
    "train_dataset['MOTIVO2_6 - Palpitação/taquicardia/arritmia'].fillna(train_dataset['MOTIVO2_6 - Palpitação/taquicardia/arritmia'].mode()[0], inplace=True)\n",
    "train_dataset['MOTIVO2_6 - Sopro'].fillna(train_dataset['MOTIVO2_6 - Sopro'].mode()[0], inplace=True)\n",
    "train_dataset['MOTIVO2_Outro'].fillna(train_dataset['MOTIVO2_Outro'].mode()[0], inplace=True)\n",
    "#train_dataset['Peso_Altura_Ratio'].fillna(train_dataset['Peso_Altura_Ratio'].median(), inplace=True)\n",
    "train_dataset['PPA_num'].fillna(train_dataset['PPA_num'].mode()[0], inplace=True)\n",
    "\n",
    "\n",
    "train_dataset['CLASSE'].fillna(train_dataset['CLASSE'].median(), inplace=True)"
   ],
   "outputs": [],
   "execution_count": null
  },
  {
   "metadata": {},
   "cell_type": "code",
   "source": "",
   "outputs": [],
   "execution_count": null
  },
  {
   "metadata": {},
   "cell_type": "code",
   "source": [
    "# Aplicar a padronização (Z-score) aos atributos numéricos\n",
    "numerical_columns = [\"IDADE\", \"Peso\", \"Altura\", \"IMC\", \"PA SISTOLICA\", \"PA DIASTOLICA\", \"FC\", \"PPA_num\"]"
   ],
   "outputs": [],
   "execution_count": null
  },
  {
   "metadata": {},
   "cell_type": "code",
   "source": [
    "# Calcular a média e desvio padrão de cada atributo\n",
    "means = train_dataset[numerical_columns].mean()\n",
    "stds = train_dataset[numerical_columns].std()"
   ],
   "outputs": [],
   "execution_count": null
  },
  {
   "metadata": {},
   "cell_type": "code",
   "source": [
    "# Aplicar a padronização\n",
    "train_dataset[numerical_columns] = (train_dataset[numerical_columns] - means) / stds"
   ],
   "outputs": [],
   "execution_count": null
  },
  {
   "metadata": {},
   "cell_type": "code",
   "source": "train_dataset",
   "outputs": [],
   "execution_count": null
  },
  {
   "metadata": {},
   "cell_type": "code",
   "source": [
    "# Salvar dados pre-processados\n",
    "train_dataset.to_csv('dados/train_dataset.csv', index=False)"
   ],
   "outputs": [],
   "execution_count": null
  },
  {
   "metadata": {},
   "cell_type": "code",
   "source": [
    "### Começar a aplicar os algoritmos para fazer o treinamento\n",
    "X = train_dataset.drop(['CLASSE', 'Id'], axis=1)\n",
    "X.fillna(0)\n",
    "y = train_dataset['CLASSE']"
   ],
   "outputs": [],
   "execution_count": null
  },
  {
   "metadata": {},
   "cell_type": "code",
   "source": [
    "# Dividir em treino e validação\n",
    "X_train, X_val, y_train, y_val = train_test_split(X, y, test_size=0.2, random_state=42, stratify=y)"
   ],
   "outputs": [],
   "execution_count": null
  },
  {
   "metadata": {},
   "cell_type": "code",
   "source": [
    "# Aplicar SMOTE para balancear as classes\n",
    "smote = SMOTE(sampling_strategy='auto', random_state=42)\n",
    "X_train_balanced, y_train_balanced = smote.fit_resample(X_train.astype(int), y_train.astype(int))"
   ],
   "outputs": [],
   "execution_count": null
  },
  {
   "metadata": {},
   "cell_type": "code",
   "source": [
    "# Dicionário para armazenar resultados\n",
    "results = {}"
   ],
   "outputs": [],
   "execution_count": null
  },
  {
   "metadata": {},
   "cell_type": "code",
   "source": [
    "# Treinar modelo\n",
    "# k-NN\n",
    "knn = KNeighborsClassifier(n_neighbors=15, weights='distance')\n",
    "knn.fit(X_train_balanced, y_train_balanced)\n",
    "y_pred_knn = knn.predict_proba(X_val)[:, 1]\n",
    "results['k-NN'] = roc_auc_score(y_val, y_pred_knn)"
   ],
   "outputs": [],
   "execution_count": null
  },
  {
   "metadata": {},
   "cell_type": "code",
   "source": [
    "# Treinar modelo\n",
    "# RandomForest\n",
    "randomForest = RandomForestClassifier(n_estimators=750, max_depth=20, min_samples_split=5, random_state=42)\n",
    "randomForest.fit(X_train_balanced, y_train_balanced)\n",
    "y_pred_random_forest = randomForest.predict_proba(X_val)[:, 1]\n",
    "results['Radom Forest'] = roc_auc_score(y_val, y_pred_random_forest)"
   ],
   "outputs": [],
   "execution_count": null
  },
  {
   "metadata": {},
   "cell_type": "code",
   "source": [
    "# Treinar modelo\n",
    "# Logistic Regression\n",
    "logisticRegression = LogisticRegression(max_iter=750)\n",
    "logisticRegression.fit(X_train_balanced, y_train_balanced)\n",
    "y_pred_logistic_regression = logisticRegression.predict_proba(X_val)[:, 1]\n",
    "results['Logistic Regression'] = roc_auc_score(y_val, y_pred_logistic_regression)"
   ],
   "outputs": [],
   "execution_count": null
  },
  {
   "metadata": {},
   "cell_type": "code",
   "source": [
    "# Naive Bayes\n",
    "nb = GaussianNB()\n",
    "nb_calibrated = CalibratedClassifierCV(nb, method=\"sigmoid\")\n",
    "nb_calibrated.fit(X_train_balanced, y_train_balanced)\n",
    "y_pred_nb = nb_calibrated.predict_proba(X_val)[:, 1]\n",
    "results['Naive Bayes'] = roc_auc_score(y_val, y_pred_nb)"
   ],
   "outputs": [],
   "execution_count": null
  },
  {
   "metadata": {},
   "cell_type": "code",
   "source": [
    "# Gradient Boosting\n",
    "gb = GradientBoostingClassifier(n_estimators=750, learning_rate=0.05, max_depth=4, random_state=42)\n",
    "gb.fit(X_train_balanced, y_train_balanced)\n",
    "y_pred_gb = gb.predict_proba(X_val)[:, 1]\n",
    "results['Gradient Boosting'] = roc_auc_score(y_val, y_pred_gb)"
   ],
   "outputs": [],
   "execution_count": null
  },
  {
   "metadata": {},
   "cell_type": "code",
   "source": [
    "# SVM\n",
    "svm = SVC(probability=True, random_state=42)\n",
    "svm.fit(X_train_balanced, y_train_balanced)\n",
    "y_pred_svm = svm.predict_proba(X_val)[:, 1]\n",
    "results['SVM'] = roc_auc_score(y_val, y_pred_svm)"
   ],
   "outputs": [],
   "execution_count": null
  },
  {
   "metadata": {},
   "cell_type": "code",
   "source": [
    "# Redes Neurais\n",
    "mlp = MLPClassifier(random_state=42, max_iter=10000)\n",
    "mlp.fit(X_train_balanced, y_train_balanced)\n",
    "y_pred_mlp = mlp.predict_proba(X_val)[:, 1]\n",
    "results['Redes Neurais'] = roc_auc_score(y_val, y_pred_mlp)"
   ],
   "outputs": [],
   "execution_count": null
  },
  {
   "metadata": {},
   "cell_type": "code",
   "source": [
    "# Definir o grid de hiperparâmetros\n",
    "param_grid = {\n",
    "    \"max_depth\": [3, 5, 10, None],\n",
    "    \"min_samples_split\": [2, 5, 10],\n",
    "    \"min_samples_leaf\": [1, 2, 5],\n",
    "    \"criterion\": [\"gini\", \"entropy\"],\n",
    "    \"max_features\": [\"sqrt\", \"log2\", None],\n",
    "    \"class_weight\": [None, \"balanced\"]\n",
    "}"
   ],
   "outputs": [],
   "execution_count": null
  },
  {
   "metadata": {},
   "cell_type": "code",
   "source": [
    "# Decision Tree\n",
    "dt = tree.DecisionTreeClassifier(criterion='gini', max_depth=3)\n",
    "dt.fit(X_train_balanced, y_train_balanced)\n",
    "y_pred_dt = dt.predict_proba(X_val)[:, 1]\n",
    "results['Decision Tree'] = roc_auc_score(y_val, y_pred_dt)"
   ],
   "outputs": [],
   "execution_count": null
  },
  {
   "metadata": {},
   "cell_type": "code",
   "source": [
    "# Aplicar GridSearchCV\n",
    "grid_search = GridSearchCV(dt, param_grid, cv=5, scoring=\"accuracy\", n_jobs=-1)\n",
    "grid_search.fit(X_train_balanced, y_train_balanced)\n",
    "y_pred_gs = grid_search.predict_proba(X_val)[:, 1]\n",
    "results['Grid Search'] = roc_auc_score(y_val, y_pred_gs)"
   ],
   "outputs": [],
   "execution_count": null
  },
  {
   "metadata": {},
   "cell_type": "code",
   "source": "results",
   "outputs": [],
   "execution_count": null
  },
  {
   "metadata": {},
   "cell_type": "code",
   "source": [
    "# Filtrar os dados de teste baseados nos IDs do test.csv\n",
    "test_filtered = test_data.merge(rhp_data, on=\"Id\", how=\"left\")"
   ],
   "outputs": [],
   "execution_count": null
  },
  {
   "metadata": {},
   "cell_type": "code",
   "source": [
    "# Remove columns dropped during training phase\n",
    "test_filtered = test_filtered.drop(columns=columns_to_drop, errors='ignore')"
   ],
   "outputs": [],
   "execution_count": null
  },
  {
   "metadata": {},
   "cell_type": "code",
   "source": [
    "# Selecionar colunas categóricas para conversão\n",
    "categorical_cols = [\"SEXO\", \"PULSOS\", \"PPA\", \"B2\", \"SOPRO\", \"MOTIVO1\", \"MOTIVO2\"]\n",
    "\n",
    "# Aplicar One-Hot Encoding\n",
    "test_filtered = pd.get_dummies(test_filtered, columns=categorical_cols, drop_first=True)\n",
    "\n",
    "# Exibir as primeiras linhas após a codificação\n",
    "test_filtered.head()"
   ],
   "outputs": [],
   "execution_count": null
  },
  {
   "metadata": {},
   "cell_type": "code",
   "source": [
    "# Criar nova feature: Relação Peso/Altura\n",
    "#test_filtered[\"Peso_Altura_Ratio\"] = test_filtered[\"Peso\"] / test_filtered[\"Altura\"]\n",
    "\n",
    "# Criar Pressão de Pulso Arterial (PPA numérica)\n",
    "test_filtered[\"PPA_num\"] = test_filtered[\"PA SISTOLICA\"] - test_filtered[\"PA DIASTOLICA\"]"
   ],
   "outputs": [],
   "execution_count": null
  },
  {
   "metadata": {},
   "cell_type": "code",
   "source": "test_filtered",
   "outputs": [],
   "execution_count": null
  },
  {
   "metadata": {},
   "cell_type": "code",
   "source": [
    "test_filtered['Peso'] = pd.to_numeric(test_filtered['Peso'], errors='coerce')\n",
    "test_filtered['Altura'] = pd.to_numeric(test_filtered['Altura'], errors='coerce')\n",
    "test_filtered['IMC'] = pd.to_numeric(test_filtered['IMC'], errors='coerce')\n",
    "test_filtered['IDADE'] = pd.to_numeric(test_filtered['IDADE'], errors='coerce')\n",
    "#test_filtered['PULSOS'] = pd.to_numeric(test_filtered['PULSOS'], errors='coerce')\n",
    "test_filtered['PA SISTOLICA'] = pd.to_numeric(test_filtered['PA SISTOLICA'], errors='coerce')\n",
    "test_filtered['PA DIASTOLICA'] = pd.to_numeric(test_filtered['PA DIASTOLICA'], errors='coerce')\n",
    "#test_filtered['PPA'] = pd.to_numeric(test_filtered['PPA'], errors='coerce')\n",
    "#test_filtered['B2'] = pd.to_numeric(test_filtered['B2'], errors='coerce')\n",
    "test_filtered['FC'] = pd.to_numeric(test_filtered['FC'], errors='coerce')\n",
    "#test_filtered['SEXO'] = pd.to_numeric(test_filtered['SEXO'], errors='coerce')\n",
    "#test_filtered['MOTIVO1'] = pd.to_numeric(test_filtered['MOTIVO1'], errors='coerce')\n",
    "#test_filtered['MOTIVO2'] = pd.to_numeric(test_filtered['MOTIVO2'], errors='coerce')\n",
    "#test_filtered['SOPRO'] = pd.to_numeric(test_filtered['SOPRO'], errors='coerce')\n",
    "\n",
    "test_filtered['SEXO_Feminino'] = pd.to_numeric(test_filtered['SEXO_Feminino'], errors='coerce')\n",
    "test_filtered['SEXO_Indeterminado'] = pd.to_numeric(test_filtered['SEXO_Indeterminado'], errors='coerce')\n",
    "test_filtered['SEXO_M'] = pd.to_numeric(test_filtered['SEXO_M'], errors='coerce')\n",
    "test_filtered['SEXO_Masculino'] = pd.to_numeric(test_filtered['SEXO_Masculino'], errors='coerce')\n",
    "test_filtered['SEXO_masculino'] = pd.to_numeric(test_filtered['SEXO_masculino'], errors='coerce')\n",
    "#test_filtered['PULSOS_Amplos'] = pd.to_numeric(test_filtered['PULSOS_Amplos'], errors='coerce')\n",
    "test_filtered['PULSOS_Diminuídos '] = pd.to_numeric(test_filtered['PULSOS_Diminuídos '], errors='coerce')\n",
    "test_filtered['PULSOS_Femorais diminuidos'] = pd.to_numeric(test_filtered['PULSOS_Femorais diminuidos'], errors='coerce')\n",
    "#test_filtered['PULSOS_NORMAIS'] = pd.to_numeric(test_filtered['PULSOS_NORMAIS'], errors='coerce')\n",
    "test_filtered['PULSOS_Normais'] = pd.to_numeric(test_filtered['PULSOS_Normais'], errors='coerce')\n",
    "test_filtered['PULSOS_Outro'] = pd.to_numeric(test_filtered['PULSOS_Outro'], errors='coerce')\n",
    "test_filtered['PPA_HAS-1 PAS'] = pd.to_numeric(test_filtered['PPA_HAS-1 PAS'], errors='coerce')\n",
    "test_filtered['PPA_HAS-2 PAD'] = pd.to_numeric(test_filtered['PPA_HAS-2 PAD'], errors='coerce')\n",
    "test_filtered['PPA_HAS-2 PAS'] = pd.to_numeric(test_filtered['PPA_HAS-2 PAS'], errors='coerce')\n",
    "test_filtered['PPA_Normal'] = pd.to_numeric(test_filtered['PPA_Normal'], errors='coerce')\n",
    "test_filtered['PPA_Não Calculado'] = pd.to_numeric(test_filtered['PPA_Não Calculado'], errors='coerce')\n",
    "test_filtered['PPA_Pre-Hipertensão PAD'] = pd.to_numeric(test_filtered['PPA_Pre-Hipertensão PAD'], errors='coerce')\n",
    "test_filtered['PPA_Pre-Hipertensão PAS'] = pd.to_numeric(test_filtered['PPA_Pre-Hipertensão PAS'], errors='coerce')\n",
    "test_filtered['B2_Hiperfonética'] = pd.to_numeric(test_filtered['B2_Hiperfonética'], errors='coerce')\n",
    "test_filtered['B2_Normal'] = pd.to_numeric(test_filtered['B2_Normal'], errors='coerce')\n",
    "test_filtered['B2_Outro'] = pd.to_numeric(test_filtered['B2_Outro'], errors='coerce')\n",
    "test_filtered['B2_Única'] = pd.to_numeric(test_filtered['B2_Única'], errors='coerce')\n",
    "#test_filtered['SOPRO_Sistolico e diastólico'] = pd.to_numeric(test_filtered['SOPRO_Sistolico e diastólico'], errors='coerce')\n",
    "test_filtered['SOPRO_Sistólico'] = pd.to_numeric(test_filtered['SOPRO_Sistólico'], errors='coerce')\n",
    "test_filtered['SOPRO_ausente'] = pd.to_numeric(test_filtered['SOPRO_ausente'], errors='coerce')\n",
    "test_filtered['SOPRO_contínuo'] = pd.to_numeric(test_filtered['SOPRO_contínuo'], errors='coerce')\n",
    "test_filtered['SOPRO_diastólico'] = pd.to_numeric(test_filtered['SOPRO_diastólico'], errors='coerce')\n",
    "test_filtered['SOPRO_sistólico'] = pd.to_numeric(test_filtered['SOPRO_sistólico'], errors='coerce')\n",
    "test_filtered['MOTIVO1_2 - Check-up'] = pd.to_numeric(test_filtered['MOTIVO1_2 - Check-up'], errors='coerce')\n",
    "test_filtered['MOTIVO1_5 - Parecer cardiológico'] = pd.to_numeric(test_filtered['MOTIVO1_5 - Parecer cardiológico'], errors='coerce')\n",
    "test_filtered['MOTIVO1_6 - Suspeita de cardiopatia'] = pd.to_numeric(test_filtered['MOTIVO1_6 - Suspeita de cardiopatia'], errors='coerce')\n",
    "test_filtered['MOTIVO1_7 - Outro'] = pd.to_numeric(test_filtered['MOTIVO1_7 - Outro'], errors='coerce')\n",
    "test_filtered['MOTIVO2_1 - Cardiopatia congenica'] = pd.to_numeric(test_filtered['MOTIVO2_1 - Cardiopatia congenica'], errors='coerce')\n",
    "test_filtered['MOTIVO2_5 - Atividade física'] = pd.to_numeric(test_filtered['MOTIVO2_5 - Atividade física'], errors='coerce')\n",
    "test_filtered['MOTIVO2_5 - Cirurgia'] = pd.to_numeric(test_filtered['MOTIVO2_5 - Cirurgia'], errors='coerce')\n",
    "test_filtered['MOTIVO2_5 - Uso de cisaprida'] = pd.to_numeric(test_filtered['MOTIVO2_5 - Uso de cisaprida'], errors='coerce')\n",
    "test_filtered['MOTIVO2_6 - Alterações de pulso/perfusão'] = pd.to_numeric(test_filtered['MOTIVO2_6 - Alterações de pulso/perfusão'], errors='coerce')\n",
    "test_filtered['MOTIVO2_6 - Cansaço'] = pd.to_numeric(test_filtered['MOTIVO2_6 - Cansaço'], errors='coerce')\n",
    "test_filtered['MOTIVO2_6 - Cardiopatia na familia'] = pd.to_numeric(test_filtered['MOTIVO2_6 - Cardiopatia na familia'], errors='coerce')\n",
    "test_filtered['MOTIVO2_6 - Cianose'] = pd.to_numeric(test_filtered['MOTIVO2_6 - Cianose'], errors='coerce')\n",
    "#test_filtered['MOTIVO2_6 - Cianose e dispnéia'] = pd.to_numeric(test_filtered['MOTIVO2_6 - Cianose e dispnéia'], errors='coerce')\n",
    "test_filtered['MOTIVO2_6 - Dispnéia'] = pd.to_numeric(test_filtered['MOTIVO2_6 - Dispnéia'], errors='coerce')\n",
    "test_filtered['MOTIVO2_6 - Dor precordial'] = pd.to_numeric(test_filtered['MOTIVO2_6 - Dor precordial'], errors='coerce')\n",
    "test_filtered['MOTIVO2_6 - HAS/dislipidemia/obesidade'] = pd.to_numeric(test_filtered['MOTIVO2_6 - HAS/dislipidemia/obesidade'], errors='coerce')\n",
    "test_filtered['MOTIVO2_6 - Palpitação/taquicardia/arritmia'] = pd.to_numeric(test_filtered['MOTIVO2_6 - Palpitação/taquicardia/arritmia'], errors='coerce')\n",
    "test_filtered['MOTIVO2_6 - Sopro'] = pd.to_numeric(test_filtered['MOTIVO2_6 - Sopro'], errors='coerce')\n",
    "test_filtered['MOTIVO2_Outro'] = pd.to_numeric(test_filtered['MOTIVO2_Outro'], errors='coerce')\n",
    "\n",
    "\n"
   ],
   "outputs": [],
   "execution_count": null
  },
  {
   "metadata": {},
   "cell_type": "code",
   "source": [
    "test_filtered['Peso'].fillna(test_filtered['Peso'].median(), inplace=True)\n",
    "test_filtered['Altura'].fillna(test_filtered['Altura'].median(), inplace=True)\n",
    "test_filtered['IMC'].fillna(test_filtered['IMC'].median(), inplace=True)\n",
    "test_filtered['IDADE'].fillna(test_filtered['IDADE'].median(), inplace=True)\n",
    "#test_filtered['PULSOS'].fillna(test_filtered['PULSOS'].mode()[0], inplace=True)\n",
    "test_filtered['PA SISTOLICA'].fillna(test_filtered['PA SISTOLICA'].median(), inplace=True)\n",
    "test_filtered['PA DIASTOLICA'].fillna(test_filtered['PA DIASTOLICA'].median(), inplace=True)\n",
    "#test_filtered['PPA'].fillna(test_filtered['PPA'].mode()[0], inplace=True)\n",
    "#test_filtered['B2'].fillna(test_filtered['B2'].mode()[0], inplace=True)\n",
    "test_filtered['FC'].fillna(test_filtered['FC'].median(), inplace=True)\n",
    "#test_filtered['SEXO'].fillna(test_filtered['SEXO'].mode()[0], inplace=True)\n",
    "#test_filtered['MOTIVO1'].fillna(test_filtered['MOTIVO1'].mode()[0], inplace=True)\n",
    "#test_filtered['MOTIVO2'].fillna(test_filtered['MOTIVO2'].mode()[0], inplace=True)\n",
    "#test_filtered['SOPRO'].fillna(test_filtered['SOPRO'].mode()[0], inplace=True)\n",
    "\n",
    "\n",
    "test_filtered['SEXO_Feminino'].fillna(test_filtered['SEXO_Feminino'].mode()[0], inplace=True)\n",
    "test_filtered['SEXO_Indeterminado'].fillna(test_filtered['SEXO_Indeterminado'].mode()[0], inplace=True)\n",
    "test_filtered['SEXO_M'].fillna(test_filtered['SEXO_M'].mode()[0], inplace=True)\n",
    "test_filtered['SEXO_Masculino'].fillna(test_filtered['SEXO_Masculino'].mode()[0], inplace=True)\n",
    "test_filtered['SEXO_masculino'].fillna(test_filtered['SEXO_masculino'].mode()[0], inplace=True)\n",
    "#test_filtered['PULSOS_Amplos'].fillna(test_filtered['PULSOS_Amplos'].mode()[0], inplace=True)\n",
    "test_filtered['PULSOS_Diminuídos '].fillna(test_filtered['PULSOS_Diminuídos '].mode()[0], inplace=True)\n",
    "test_filtered['PULSOS_Femorais diminuidos'].fillna(test_filtered['PULSOS_Femorais diminuidos'].mode()[0], inplace=True)\n",
    "#test_filtered['PULSOS_NORMAIS'].fillna(test_filtered['PULSOS_NORMAIS'].mode()[0], inplace=True)\n",
    "test_filtered['PULSOS_Normais'].fillna(test_filtered['PULSOS_Normais'].mode()[0], inplace=True)\n",
    "test_filtered['PULSOS_Outro'].fillna(test_filtered['PULSOS_Outro'].mode()[0], inplace=True)\n",
    "test_filtered['PPA_HAS-1 PAS'].fillna(test_filtered['PPA_HAS-1 PAS'].mode()[0], inplace=True)\n",
    "test_filtered['PPA_HAS-2 PAD'].fillna(test_filtered['PPA_HAS-2 PAD'].mode()[0], inplace=True)\n",
    "test_filtered['PPA_HAS-2 PAS'].fillna(test_filtered['PPA_HAS-2 PAS'].mode()[0], inplace=True)\n",
    "test_filtered['PPA_Normal'].fillna(test_filtered['PPA_Normal'].mode()[0], inplace=True)\n",
    "test_filtered['PPA_Não Calculado'].fillna(test_filtered['PPA_Não Calculado'].mode()[0], inplace=True)\n",
    "test_filtered['PPA_Pre-Hipertensão PAD'].fillna(test_filtered['PPA_Pre-Hipertensão PAD'].mode()[0], inplace=True)\n",
    "test_filtered['PPA_Pre-Hipertensão PAS'].fillna(test_filtered['PPA_Pre-Hipertensão PAS'].mode()[0], inplace=True)\n",
    "test_filtered['B2_Hiperfonética'].fillna(test_filtered['B2_Hiperfonética'].mode()[0], inplace=True)\n",
    "test_filtered['B2_Normal'].fillna(test_filtered['B2_Normal'].mode()[0], inplace=True)\n",
    "test_filtered['B2_Outro'].fillna(test_filtered['B2_Outro'].mode()[0], inplace=True)\n",
    "test_filtered['B2_Única'].fillna(test_filtered['B2_Única'].mode()[0], inplace=True)\n",
    "#test_filtered['SOPRO_Sistolico e diastólico'].fillna(test_filtered['SOPRO_Sistolico e diastólico'].mode()[0], inplace=True)\n",
    "test_filtered['SOPRO_Sistólico'].fillna(test_filtered['SOPRO_Sistólico'].mode()[0], inplace=True)\n",
    "test_filtered['SOPRO_ausente'].fillna(test_filtered['SOPRO_ausente'].mode()[0], inplace=True)\n",
    "test_filtered['SOPRO_contínuo'].fillna(test_filtered['SOPRO_contínuo'].mode()[0], inplace=True)\n",
    "test_filtered['SOPRO_diastólico'].fillna(test_filtered['SOPRO_diastólico'].mode()[0], inplace=True)\n",
    "test_filtered['SOPRO_sistólico'].fillna(test_filtered['SOPRO_sistólico'].mode()[0], inplace=True)\n",
    "test_filtered['MOTIVO1_2 - Check-up'].fillna(test_filtered['MOTIVO1_2 - Check-up'].mode()[0], inplace=True)\n",
    "test_filtered['MOTIVO1_5 - Parecer cardiológico'].fillna(test_filtered['MOTIVO1_5 - Parecer cardiológico'].mode()[0], inplace=True)\n",
    "test_filtered['MOTIVO1_6 - Suspeita de cardiopatia'].fillna(test_filtered['MOTIVO1_6 - Suspeita de cardiopatia'].mode()[0], inplace=True)\n",
    "test_filtered['MOTIVO1_7 - Outro'].fillna(test_filtered['MOTIVO1_7 - Outro'].mode()[0], inplace=True)\n",
    "test_filtered['MOTIVO2_1 - Cardiopatia congenica'].fillna(test_filtered['MOTIVO2_1 - Cardiopatia congenica'].mode()[0], inplace=True)\n",
    "test_filtered['MOTIVO2_5 - Atividade física'].fillna(test_filtered['MOTIVO2_5 - Atividade física'].mode()[0], inplace=True)\n",
    "test_filtered['MOTIVO2_5 - Cirurgia'].fillna(test_filtered['MOTIVO2_5 - Cirurgia'].mode()[0], inplace=True)\n",
    "test_filtered['MOTIVO2_5 - Uso de cisaprida'].fillna(test_filtered['MOTIVO2_5 - Uso de cisaprida'].mode()[0], inplace=True)\n",
    "test_filtered['MOTIVO2_6 - Alterações de pulso/perfusão'].fillna(test_filtered['MOTIVO2_6 - Alterações de pulso/perfusão'].mode()[0], inplace=True)\n",
    "test_filtered['MOTIVO2_6 - Cansaço'].fillna(test_filtered['MOTIVO2_6 - Cansaço'].mode()[0], inplace=True)\n",
    "test_filtered['MOTIVO2_6 - Cardiopatia na familia'].fillna(test_filtered['MOTIVO2_6 - Cardiopatia na familia'].mode()[0], inplace=True)\n",
    "test_filtered['MOTIVO2_6 - Cianose'].fillna(test_filtered['MOTIVO2_6 - Cianose'].mode()[0], inplace=True)\n",
    "#test_filtered['MOTIVO2_6 - Cianose e dispnéia'].fillna(test_filtered['MOTIVO2_6 - Cianose e dispnéia'].mode()[0], inplace=True)\n",
    "test_filtered['MOTIVO2_6 - Dispnéia'].fillna(test_filtered['MOTIVO2_6 - Dispnéia'].mode()[0], inplace=True)\n",
    "test_filtered['MOTIVO2_6 - Dor precordial'].fillna(test_filtered['MOTIVO2_6 - Dor precordial'].mode()[0], inplace=True)\n",
    "test_filtered['MOTIVO2_6 - HAS/dislipidemia/obesidade'].fillna(test_filtered['MOTIVO2_6 - HAS/dislipidemia/obesidade'].mode()[0], inplace=True)\n",
    "test_filtered['MOTIVO2_6 - Palpitação/taquicardia/arritmia'].fillna(test_filtered['MOTIVO2_6 - Palpitação/taquicardia/arritmia'].mode()[0], inplace=True)\n",
    "test_filtered['MOTIVO2_6 - Sopro'].fillna(test_filtered['MOTIVO2_6 - Sopro'].mode()[0], inplace=True)\n",
    "test_filtered['MOTIVO2_Outro'].fillna(test_filtered['MOTIVO2_Outro'].mode()[0], inplace=True)\n",
    "#test_filtered['Peso_Altura_Ratio'].fillna(train_dataset['Peso_Altura_Ratio'].median(), inplace=True)\n",
    "test_filtered['PPA_num'].fillna(test_filtered['PPA_num'].mode()[0], inplace=True)\n",
    "\n"
   ],
   "outputs": [],
   "execution_count": null
  },
  {
   "metadata": {},
   "cell_type": "code",
   "source": [
    "# Aplicar a padronização (Z-score) aos atributos numéricos\n",
    "numerical_columns = [\"IDADE\", \"Peso\", \"Altura\", \"IMC\", \"PA SISTOLICA\", \"PA DIASTOLICA\", \"FC\", \"PPA_num\"]"
   ],
   "outputs": [],
   "execution_count": null
  },
  {
   "metadata": {},
   "cell_type": "code",
   "source": [
    "# Calcular a média e desvio padrão de cada atributo\n",
    "means = test_filtered[numerical_columns].mean()\n",
    "stds = test_filtered[numerical_columns].std()"
   ],
   "outputs": [],
   "execution_count": null
  },
  {
   "metadata": {},
   "cell_type": "code",
   "source": [
    "# Aplicar a padronização\n",
    "test_filtered[numerical_columns] = (test_filtered[numerical_columns] - means) / stds"
   ],
   "outputs": [],
   "execution_count": null
  },
  {
   "metadata": {},
   "cell_type": "code",
   "source": [
    "# Remover a coluna CLASSE do conjunto de teste, pois essa é a variável a ser predita\n",
    "if \"CLASSE\" in test_filtered.columns:\n",
    "    test_filtered = test_filtered.drop(columns=[\"CLASSE\"])"
   ],
   "outputs": [],
   "execution_count": null
  },
  {
   "metadata": {},
   "cell_type": "code",
   "source": [
    "# Separar features (X) e rótulos (y) do conjunto de treinamento\n",
    "X_train = train_data.drop(columns=[\"Id\", \"CLASSE\"])\n",
    "y_train = train_data[\"CLASSE\"]"
   ],
   "outputs": [],
   "execution_count": null
  },
  {
   "metadata": {},
   "cell_type": "code",
   "source": [
    "# Features do conjunto de teste\n",
    "X_test = test_filtered.drop(columns=[\"Id\"])"
   ],
   "outputs": [],
   "execution_count": null
  },
  {
   "metadata": {},
   "cell_type": "code",
   "source": [
    "# Verificar as dimensões dos conjuntos\n",
    "X_train.shape, y_train.shape, X_test.shape"
   ],
   "outputs": [],
   "execution_count": null
  },
  {
   "metadata": {},
   "cell_type": "code",
   "source": [
    "# Fazer previsões no conjunto de teste\n",
    "pred_knn = knn.predict_proba(X_test)\n",
    "pred_nb = nb_calibrated.predict_proba(X_test)\n",
    "pred_svm = svm.predict_proba(X_test)\n",
    "pred_mlp = mlp.predict_proba(X_test)\n",
    "pred_rf = randomForest.predict_proba(X_test)\n",
    "pred_lr = logisticRegression.predict_proba(X_test)\n",
    "pred_gb = gb.predict_proba(X_test)\n",
    "pred_dt = dt.predict_proba(X_test)"
   ],
   "outputs": [],
   "execution_count": null
  },
  {
   "metadata": {},
   "cell_type": "code",
   "source": "pred_knn",
   "outputs": [],
   "execution_count": null
  },
  {
   "metadata": {},
   "cell_type": "code",
   "source": [
    "# Criar um DataFrame para armazenar os resultados\n",
    "results = test_filtered[[\"Id\"]].copy()\n",
    "results[\"k-NN\"] = pred_knn[:, 1]\n",
    "results[\"Naive Bayes\"] = pred_nb[:, 1]\n",
    "results[\"SVM\"] = pred_svm[:, 1]\n",
    "results[\"Redes Neurais\"] = pred_mlp[:, 1]\n",
    "results[\"Random Forest\"] = pred_rf[:, 1]\n",
    "results[\"Logistic Regression\"] = pred_lr[:, 1]\n",
    "results[\"Gradient Boosting\"] = pred_gb[:, 1]\n",
    "results[\"Decision Tree\"] = pred_dt[:, 1]"
   ],
   "outputs": [],
   "execution_count": null
  },
  {
   "metadata": {},
   "cell_type": "code",
   "source": "results",
   "outputs": [],
   "execution_count": null
  },
  {
   "metadata": {},
   "cell_type": "code",
   "source": [
    "# Gera os arquivos de submissão\n",
    "\n",
    "# Criar DataFrame para submissão\n",
    "submission_naive_bayes = pd.DataFrame({\n",
    "    'Id': results[\"Id\"],\n",
    "    'Predicted': results[\"Naive Bayes\"]\n",
    "})\n",
    "\n",
    "submission_knn = pd.DataFrame({\n",
    "    'Id': results[\"Id\"],\n",
    "    'Predicted': results[\"k-NN\"]\n",
    "})\n",
    "\n",
    "submission_redes_neurais = pd.DataFrame({\n",
    "    'Id': results[\"Id\"],\n",
    "    'Predicted': results[\"Redes Neurais\"]\n",
    "})\n",
    "\n",
    "submission_random_forest = pd.DataFrame({\n",
    "    'Id': results[\"Id\"],\n",
    "    'Predicted': results[\"Random Forest\"]\n",
    "})\n",
    "\n",
    "submission_logistic_regression = pd.DataFrame({\n",
    "    'Id': results[\"Id\"],\n",
    "    'Predicted': results[\"Logistic Regression\"]\n",
    "})\n",
    "\n",
    "submission_gradient_boosting = pd.DataFrame({\n",
    "    'Id': results[\"Id\"],\n",
    "    'Predicted': results[\"Gradient Boosting\"]\n",
    "})\n",
    "\n",
    "submission_decision_tree = pd.DataFrame({\n",
    "    'Id': results[\"Id\"],\n",
    "    'Predicted': results[\"Decision Tree\"]\n",
    "})"
   ],
   "outputs": [],
   "execution_count": null
  },
  {
   "metadata": {},
   "cell_type": "code",
   "source": [
    "# Salvar o arquivo\n",
    "submission_naive_bayes.to_csv(\"dados/submission_naive_bayes.csv\", index=False)\n",
    "submission_redes_neurais.to_csv(\"dados/submission_redes_neurais.csv\", index=False)\n",
    "submission_knn.to_csv(\"dados/submission_knn.csv\", index=False)\n",
    "submission_random_forest.to_csv(\"dados/random_forest.csv\", index=False)\n",
    "submission_logistic_regression.to_csv(\"dados/logistic_regression.csv\", index=False)\n",
    "submission_gradient_boosting.to_csv(\"dados/gradient_boosting.csv\", index=False)\n",
    "submission_decision_tree.to_csv(\"dados/decision_tree.csv\", index=False)"
   ],
   "outputs": [],
   "execution_count": null
  },
  {
   "metadata": {},
   "cell_type": "markdown",
   "source": [
    "---\n",
    "### Análise dos Resultados\n",
    "\n",
    "Nesta seção, os resultados devem ser exibidos através de tabelas e gráficos, comparados e profundamente analisados."
   ]
  }
 ],
 "metadata": {
  "kernelspec": {
   "display_name": "Python 3 (ipykernel)",
   "language": "python",
   "name": "python3"
  },
  "language_info": {
   "codemirror_mode": {
    "name": "ipython",
    "version": 3
   },
   "file_extension": ".py",
   "mimetype": "text/x-python",
   "name": "python",
   "nbconvert_exporter": "python",
   "pygments_lexer": "ipython3",
   "version": "3.12.8"
  }
 },
 "nbformat": 4,
 "nbformat_minor": 4
}
